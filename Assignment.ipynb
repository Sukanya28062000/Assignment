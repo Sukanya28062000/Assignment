{
  "nbformat": 4,
  "nbformat_minor": 0,
  "metadata": {
    "colab": {
      "provenance": [],
      "authorship_tag": "ABX9TyMjAt5bwzNAGd+1rVKFWERO",
      "include_colab_link": true
    },
    "kernelspec": {
      "name": "python3",
      "display_name": "Python 3"
    },
    "language_info": {
      "name": "python"
    }
  },
  "cells": [
    {
      "cell_type": "markdown",
      "metadata": {
        "id": "view-in-github",
        "colab_type": "text"
      },
      "source": [
        "<a href=\"https://colab.research.google.com/github/Sukanya28062000/Assignment/blob/main/Assignment.ipynb\" target=\"_parent\"><img src=\"https://colab.research.google.com/assets/colab-badge.svg\" alt=\"Open In Colab\"/></a>"
      ]
    },
    {
      "cell_type": "code",
      "source": [],
      "metadata": {
        "id": "5GvvLHT3Jxim"
      },
      "execution_count": null,
      "outputs": []
    },
    {
      "cell_type": "markdown",
      "source": [
        "# New Section"
      ],
      "metadata": {
        "id": "v6rQOEZZLPzB"
      }
    },
    {
      "cell_type": "markdown",
      "source": [
        "# New Section"
      ],
      "metadata": {
        "id": "p2_z61SNMe7q"
      }
    },
    {
      "cell_type": "code",
      "source": [
        "import numpy as np\n",
        "def Split_file(url,n=10):\n",
        "    climate_data=np.genfromtxt(url,delimiter=',',skip_header=1)\n",
        "    splited_arr=np.array_split(climate_data,n)\n",
        "    \n",
        "    for i in range(n):\n",
        "        np.savetxt(f'climate_project/climate_data_team{i}.csv',splited_arr[i],delimiter=',',fmt='%i',header='temperature,rainfall,humidity')\n",
        "file_url='https://raw.githubusercontent.com/svkarthik86/Advanced-python/main/climate.txt'\n",
        "Split_file(file_url,n=10)"
      ],
      "metadata": {
        "id": "A79zatI4Knon"
      },
      "execution_count": 5,
      "outputs": []
    },
    {
      "cell_type": "markdown",
      "source": [],
      "metadata": {
        "id": "h8RnVjdOKt2B"
      }
    },
    {
      "cell_type": "code",
      "source": [
        "file_url='https://raw.githubusercontent.com/svkarthik86/Advanced-python/main/climate.txt'\n",
        "Split_file(file_url,n=10)"
      ],
      "metadata": {
        "id": "v1b6ytveKuvq"
      },
      "execution_count": 6,
      "outputs": []
    },
    {
      "cell_type": "code",
      "source": [
        "file_url"
      ],
      "metadata": {
        "colab": {
          "base_uri": "https://localhost:8080/",
          "height": 35
        },
        "id": "CichFG4gLBif",
        "outputId": "793b16d6-db37-4818-cfdf-3d00449a550d"
      },
      "execution_count": 7,
      "outputs": [
        {
          "output_type": "execute_result",
          "data": {
            "text/plain": [
              "'https://raw.githubusercontent.com/svkarthik86/Advanced-python/main/climate.txt'"
            ],
            "application/vnd.google.colaboratory.intrinsic+json": {
              "type": "string"
            }
          },
          "metadata": {},
          "execution_count": 7
        }
      ]
    },
    {
      "cell_type": "code",
      "source": [
        "Split_file(file_url,n=10)"
      ],
      "metadata": {
        "id": "3QW-eeOSLHYH"
      },
      "execution_count": 8,
      "outputs": []
    },
    {
      "cell_type": "code",
      "source": [],
      "metadata": {
        "id": "hUH7rkixLLjD"
      },
      "execution_count": null,
      "outputs": []
    }
  ]
}